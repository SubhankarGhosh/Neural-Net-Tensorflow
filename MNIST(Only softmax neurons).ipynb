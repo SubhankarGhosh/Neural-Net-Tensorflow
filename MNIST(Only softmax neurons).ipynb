{
 "cells": [
  {
   "cell_type": "code",
   "execution_count": 1,
   "metadata": {
    "collapsed": false
   },
   "outputs": [],
   "source": [
    "import tensorflow as tf\n",
    "import math\n",
    "import os\n",
    "from six.moves import xrange\n",
    "import numpy as np\n",
    "from tensorflow.contrib.learn.python.learn.datasets.mnist import read_data_sets\n",
    "%matplotlib inline\n",
    "import matplotlib.pyplot as plt"
   ]
  },
  {
   "cell_type": "code",
   "execution_count": 2,
   "metadata": {
    "collapsed": false
   },
   "outputs": [
    {
     "name": "stdout",
     "output_type": "stream",
     "text": [
      "Extracting data/train-images-idx3-ubyte.gz\n",
      "Extracting data/train-labels-idx1-ubyte.gz\n",
      "Extracting data/t10k-images-idx3-ubyte.gz\n",
      "Extracting data/t10k-labels-idx1-ubyte.gz\n"
     ]
    }
   ],
   "source": [
    "tf.set_random_seed(0)\n",
    "mnist = read_data_sets(\"data\", one_hot=True, reshape=False)#, validation_size=0)"
   ]
  },
  {
   "cell_type": "code",
   "execution_count": 3,
   "metadata": {
    "collapsed": true
   },
   "outputs": [],
   "source": [
    "X=tf.placeholder(tf.float32, [None,28,28,1])#none for the batch size(eg 100 images at once), 28&28 represents no. of pixels, 1 for pixel values(1:greyscale,3:rgb)\n",
    "W=tf.Variable(tf.zeros([784,10]))#784pixels(28*28), 10 neurons\n",
    "b=tf.Variable(tf.zeros([10]))#biases for 10 neurons\n",
    "\n",
    "init=tf.initialize_all_variables()"
   ]
  },
  {
   "cell_type": "code",
   "execution_count": 4,
   "metadata": {
    "collapsed": true
   },
   "outputs": [],
   "source": [
    "#our model\n",
    "Y=tf.nn.softmax(tf.matmul(tf.reshape(X,[-1,784]),W)+b)#reshape is for converting all the pixels of an image into a 1d vector\n",
    "\n",
    "#placeholder for actual labels\n",
    "Y_=tf.placeholder(tf.float32,[None,10])\n",
    "\n",
    "#loss function\n",
    "cross_entropy=-tf.reduce_sum(Y_ * tf.log(Y))#summation over product of actual label and log of output\n",
    "\n",
    "#% of correct answers found in batch\n",
    "is_correct=tf.equal(tf.argmax(Y,1),tf.argmax(Y_,1))\n",
    "accuracy=tf.reduce_mean(tf.cast(is_correct,tf.float32))"
   ]
  },
  {
   "cell_type": "code",
   "execution_count": 5,
   "metadata": {
    "collapsed": true
   },
   "outputs": [],
   "source": [
    "optimizer=tf.train.GradientDescentOptimizer(0.003)#learning rate:0.003  fraction of gradient to be added to the variables\n",
    "train_step=optimizer.minimize(cross_entropy)"
   ]
  },
  {
   "cell_type": "code",
   "execution_count": 6,
   "metadata": {
    "collapsed": false
   },
   "outputs": [],
   "source": [
    "sess=tf.Session()\n",
    "sess.run(init)\n",
    "\n",
    "for i in range(1000):\n",
    "    batch_X,batch_Y = mnist.train.next_batch(100)#load batch of 100 images\n",
    "    train_data={X:batch_X, Y_:batch_Y}\n",
    "    \n",
    "    #train\n",
    "    sess.run(train_step, feed_dict=train_data)#execute the training steps(updating the weights and biases),feed the training data into the placeholders\n",
    "        \n",
    "    if i%100 ==0:\n",
    "        #check accuracy on training data\n",
    "        a,c = sess.run([accuracy,cross_entropy],feed_dict=train_data)\n",
    "    \n",
    "        #check accuracy on test data\n",
    "        test_data={X:mnist.test.images, Y_:mnist.test.labels}\n",
    "        a,c = sess.run([accuracy, cross_entropy], feed_dict=test_data)"
   ]
  },
  {
   "cell_type": "code",
   "execution_count": null,
   "metadata": {
    "collapsed": true
   },
   "outputs": [],
   "source": []
  }
 ],
 "metadata": {
  "anaconda-cloud": {},
  "kernelspec": {
   "display_name": "Python [conda env:tensorflow3]",
   "language": "python",
   "name": "conda-env-tensorflow3-py"
  },
  "language_info": {
   "codemirror_mode": {
    "name": "ipython",
    "version": 3
   },
   "file_extension": ".py",
   "mimetype": "text/x-python",
   "name": "python",
   "nbconvert_exporter": "python",
   "pygments_lexer": "ipython3",
   "version": "3.5.2"
  }
 },
 "nbformat": 4,
 "nbformat_minor": 2
}
