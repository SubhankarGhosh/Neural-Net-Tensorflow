{
 "cells": [
  {
   "cell_type": "code",
   "execution_count": null,
   "metadata": {
    "collapsed": true
   },
   "outputs": [],
   "source": [
    "import tensorflow as tf"
   ]
  },
  {
   "cell_type": "code",
   "execution_count": null,
   "metadata": {
    "collapsed": false
   },
   "outputs": [],
   "source": [
    "import matplotlib"
   ]
  },
  {
   "cell_type": "code",
   "execution_count": null,
   "metadata": {
    "collapsed": false
   },
   "outputs": [],
   "source": [
    "hello = tf.constant(\"Hey!!!\")\n",
    "sess = tf.Session()\n",
    "print(sess.run(hello))"
   ]
  },
  {
   "cell_type": "code",
   "execution_count": null,
   "metadata": {
    "collapsed": false
   },
   "outputs": [],
   "source": [
    "import numpy as np\n",
    "%matplotlib inline\n",
    "import pylab"
   ]
  },
  {
   "cell_type": "code",
   "execution_count": null,
   "metadata": {
    "collapsed": false
   },
   "outputs": [],
   "source": [
    "xdata = np.random.rand(1000).astype(np.float32) #numpy array of 1000 floats\n",
    "noise = np.random.normal(scale=0.05, size=len(xdata)) #points from a normal distribution with standard deviation(scale) & size as no. of instances\n",
    "ydata = xdata * 0.2 + 0.5 + noise #noise represents the bias\n",
    "pylab.plot(xdata, ydata, '.')"
   ]
  },
  {
   "cell_type": "code",
   "execution_count": null,
   "metadata": {
    "collapsed": false
   },
   "outputs": [],
   "source": [
    "noise = np.random.normal(scale=0.001, size=len(xdata))\n",
    "ydata = xdata * 0.2 + 0.5 + noise #less noise => better results\n",
    "pylab.plot(xdata, ydata, '.')"
   ]
  },
  {
   "cell_type": "code",
   "execution_count": null,
   "metadata": {
    "collapsed": false,
    "scrolled": true
   },
   "outputs": [],
   "source": [
    "Wt = tf.Variable(tf.random_uniform([1],0.0,1.0))\n",
    "b = tf.Variable(tf.zeros([1]))\n",
    "y = Wt * xdata + b\n",
    "\n",
    "print(Wt)\n",
    "print(b)"
   ]
  },
  {
   "cell_type": "code",
   "execution_count": null,
   "metadata": {
    "collapsed": false
   },
   "outputs": [],
   "source": [
    "loss = tf.reduce_mean(tf.square(y - ydata))\n",
    "optimizer = tf.train.GradientDescentOptimizer(0.5)\n",
    "train = optimizer.minimize(loss)\n",
    "init = tf.initialize_all_variables()\n",
    "print(\"loss:\", loss)\n",
    "print(\"optimizer:\", optimizer)\n",
    "print(\"train:\", train)\n",
    "print(init)"
   ]
  },
  {
   "cell_type": "code",
   "execution_count": null,
   "metadata": {
    "collapsed": false
   },
   "outputs": [],
   "source": [
    "print(tf.get_default_graph().as_graph_def()) #Our Neural Net"
   ]
  },
  {
   "cell_type": "code",
   "execution_count": null,
   "metadata": {
    "collapsed": false
   },
   "outputs": [],
   "source": [
    "sess = tf.Session()\n",
    "sess.run(init)\n",
    "y_ini = sess.run(y) #copy initial value of y for future reference\n",
    "\n",
    "print(sess.run([Wt, b])) #Initial values of Wt nd b"
   ]
  },
  {
   "cell_type": "code",
   "execution_count": null,
   "metadata": {
    "collapsed": false
   },
   "outputs": [],
   "source": [
    "\n",
    "for step in range(201):\n",
    "    sess.run(train) #Training\n",
    "    if step % 20 == 0:\n",
    "        print(step, sess.run([Wt,b]))\n",
    "        \n",
    "print(sess.run([Wt,b]))"
   ]
  },
  {
   "cell_type": "code",
   "execution_count": null,
   "metadata": {
    "collapsed": false
   },
   "outputs": [],
   "source": [
    "pylab.plot(xdata, ydata, '.', label = \"target\")\n",
    "pylab.plot(xdata, y_ini, '.', label = \"initial\")\n",
    "pylab.plot(xdata, sess.run(y), '.', label = \"trained values\")\n",
    "pylab.legend()\n",
    "pylab.ylim(0, 1.0)"
   ]
  },
  {
   "cell_type": "code",
   "execution_count": null,
   "metadata": {
    "collapsed": true
   },
   "outputs": [],
   "source": []
  }
 ],
 "metadata": {
  "anaconda-cloud": {},
  "kernelspec": {
   "display_name": "Python [conda env:tensorflow]",
   "language": "python",
   "name": "conda-env-tensorflow-py"
  },
  "language_info": {
   "codemirror_mode": {
    "name": "ipython",
    "version": 2
   },
   "file_extension": ".py",
   "mimetype": "text/x-python",
   "name": "python",
   "nbconvert_exporter": "python",
   "pygments_lexer": "ipython2",
   "version": "2.7.13"
  }
 },
 "nbformat": 4,
 "nbformat_minor": 2
}
